{
 "cells": [
  {
   "cell_type": "code",
   "execution_count": 1,
   "metadata": {},
   "outputs": [],
   "source": [
    "from liputils import Lipid\n",
    "\n",
    "import requests\n",
    "import pandas as pd\n",
    "import re\n",
    "from numpy import average, std\n",
    "\n",
    "from timeit import timeit"
   ]
  },
  {
   "cell_type": "code",
   "execution_count": 2,
   "metadata": {},
   "outputs": [],
   "source": [
    "refmet_url = \"https://www.metabolomicsworkbench.org/databases/refmet/refmet_latest.xlsx\"\n",
    "refmet_file = \"refmet.xlsx\"\n",
    "\n",
    "\n",
    "def fetch_database(url):\n",
    "    req = requests.get(url, allow_redirects=False)\n",
    "    \n",
    "    with open(refmet_file, \"wb\") as o:\n",
    "        o.write(req.content)\n",
    "\n",
    "\n",
    "def process_database(filename, wanted_cols = [\"name\", \"exactmass\", \"main_class\"],\n",
    "                     to_translate=[\"Fatty esters\", \"Fatty amides\", \"Fatty acids\"],\n",
    "    ):\n",
    "    \"\"\"This processes an Excel RefMet list of compounds, by removing\n",
    "    all residues that do not contain any fatty acid or similar residues.\n",
    "    \n",
    "    The resulting table is then saved as a tab-delimited .csv text.\n",
    "\n",
    "    It also saves another table of named compounds that need to be\n",
    "    manually translated. The intended use of this is to periodically\n",
    "    check new entries against updated RefMet versions.\n",
    "    \"\"\"\n",
    "\n",
    "    database = pd.read_excel(filename)\n",
    "\n",
    "    # == step 1 ==\n",
    "\n",
    "    df = database.copy()\n",
    "    df = df[wanted_cols]\n",
    "\n",
    "    #choosing lipid names that seemingly contain fatty acids residues\n",
    "    new_index = df[\"name\"].str.extract(r\"(\\d*:\\d*)\")\n",
    "    new_index = new_index.dropna()\n",
    "    df = df.reindex(new_index.index)\n",
    "    \n",
    "    #removing some troublesome classes by hand\n",
    "    df = df[df[\"main_class\"] != \"Disaccharides\"]\n",
    "    df = df[df[\"main_class\"] != \"Steroids\"]\n",
    "    \n",
    "    df.to_csv(filename[:-5]+\".csv\", sep=\"\\t\")\n",
    "\n",
    "    # == step 2 ==\n",
    "\n",
    "    database = database[database[\"main_class\"].isin(to_translate)]\n",
    "    database.to_csv(filename[:-5]+\"_to_translate.csv\", sep=\"\\t\")\n",
    "\n",
    "\n",
    "def extract_fatty_classes(filename):\n",
    "    \"\"\"Reads fatty classes from RefMet list of compounds, returns set of classes\n",
    "    \"\"\"\n",
    "    df = pd.read_excel(filename)\n",
    "    return set([x for x in df[\"main_class\"] if \"fatt\" in x.lower()])"
   ]
  },
  {
   "cell_type": "code",
   "execution_count": 3,
   "metadata": {},
   "outputs": [
    {
     "name": "stdout",
     "output_type": "stream",
     "text": [
      "Downloading latest RefMet database..\n",
      "Processing RefMet database..\n"
     ]
    }
   ],
   "source": [
    "if __name__ == \"__main__\":\n",
    "\n",
    "    print(\"Downloading latest RefMet database..\")\n",
    "    fetch_database(refmet_url)\n",
    "    print(\"Processing RefMet database..\")\n",
    "    process_database(refmet_file)"
   ]
  },
  {
   "cell_type": "markdown",
   "metadata": {},
   "source": [
    "Preparing the whole lipid index against which to benchmark ```liputils```"
   ]
  },
  {
   "cell_type": "code",
   "execution_count": 4,
   "metadata": {},
   "outputs": [
    {
     "name": "stdout",
     "output_type": "stream",
     "text": [
      "There currently are 1605 named lipids.\n"
     ]
    }
   ],
   "source": [
    "challenge = pd.read_csv(\"refmet_to_translate.csv\", sep=\"\\t\")\n",
    "named_lipids = list(challenge[\"name\"])\n",
    "print(f\"There currently are {len(named_lipids)} named lipids.\")"
   ]
  },
  {
   "cell_type": "code",
   "execution_count": 5,
   "metadata": {},
   "outputs": [],
   "source": [
    "normal_lipids = pd.read_csv(\"refmet.csv\", sep=\"\\t\")\n",
    "compounds = named_lipids + list(normal_lipids[\"name\"])"
   ]
  },
  {
   "cell_type": "code",
   "execution_count": 6,
   "metadata": {},
   "outputs": [
    {
     "name": "stdout",
     "output_type": "stream",
     "text": [
      "Liputils is being benchmarked against 80377 lipid identifiers.\n"
     ]
    }
   ],
   "source": [
    "print(f\"Liputils is being benchmarked against {len(compounds)} lipid identifiers.\")"
   ]
  },
  {
   "cell_type": "code",
   "execution_count": 7,
   "metadata": {},
   "outputs": [],
   "source": [
    "def benchmark():\n",
    "    # this benchmark individually parses each RefMet-compliant\n",
    "    # lipid identifier taken from the online database\n",
    "    for compound in compounds:\n",
    "        Lipid(compound).refmet_residues()"
   ]
  },
  {
   "cell_type": "code",
   "execution_count": 8,
   "metadata": {},
   "outputs": [
    {
     "name": "stdout",
     "output_type": "stream",
     "text": [
      "Average detection time is in the order of 18.8±3.61 microseconds.\n"
     ]
    }
   ],
   "source": [
    "times = []\n",
    "total_tries = 50\n",
    "\n",
    "for t in range(total_tries):\n",
    "    times.append(timeit(\"benchmark()\", globals=globals(), number=1))\n",
    "\n",
    "    \n",
    "ave_t = (average(times) / len(compounds)) * 1_000_000\n",
    "sd    = (std(times) / len(compounds)) * 1_000_000\n",
    "print(f\"Average detection time is in the order of \\\n",
    "{round(ave_t, 2)}±{round(sd, 2)} microseconds.\")"
   ]
  },
  {
   "cell_type": "code",
   "execution_count": null,
   "metadata": {},
   "outputs": [],
   "source": []
  }
 ],
 "metadata": {
  "kernelspec": {
   "display_name": "Python 3",
   "language": "python",
   "name": "python3"
  },
  "language_info": {
   "codemirror_mode": {
    "name": "ipython",
    "version": 3
   },
   "file_extension": ".py",
   "mimetype": "text/x-python",
   "name": "python",
   "nbconvert_exporter": "python",
   "pygments_lexer": "ipython3",
   "version": "3.7.0"
  }
 },
 "nbformat": 4,
 "nbformat_minor": 2
}
